{
  "nbformat": 4,
  "nbformat_minor": 0,
  "metadata": {
    "colab": {
      "provenance": [],
      "toc_visible": true
    },
    "kernelspec": {
      "name": "python3",
      "display_name": "Python 3"
    },
    "language_info": {
      "name": "python"
    }
  },
  "cells": [
    {
      "cell_type": "markdown",
      "source": [
        "# Analisis de los datos tratados"
      ],
      "metadata": {
        "id": "RXp_33yt5UHc"
      }
    },
    {
      "cell_type": "markdown",
      "source": [
        "## Importación de bibliotecas y datos\n"
      ],
      "metadata": {
        "id": "FBcG1yNf6AJx"
      }
    },
    {
      "cell_type": "code",
      "execution_count": null,
      "metadata": {
        "id": "XTBSwZoDx3O3"
      },
      "outputs": [],
      "source": [
        "import pandas as pd\n",
        "import numpy as np\n",
        "import matplotlib.pyplot as plt\n",
        "import seaborn as sns\n",
        "\n",
        "url = ('https://raw.githubusercontent.com/n-riverad/challenge_telecom_x/refs/heads/main/datos_tratados.csv')\n",
        "df = pd.read_csv(url)\n",
        "df.head()"
      ]
    },
    {
      "cell_type": "code",
      "metadata": {
        "id": "6cec2f4c"
      },
      "source": [
        "numerical_cols = df.select_dtypes(include=np.number).columns\n",
        "\n",
        "descriptive_stats = df[numerical_cols].describe()\n",
        "\n",
        "descriptive_stats"
      ],
      "execution_count": null,
      "outputs": []
    },
    {
      "cell_type": "code",
      "metadata": {
        "id": "322adde6"
      },
      "source": [
        "# Calcular la matriz de correlación\n",
        "correlation_matrix = df[numerical_cols].corr()\n",
        "\n",
        "# Crear un Heatmap\n",
        "plt.figure(figsize=(12, 10))\n",
        "sns.heatmap(correlation_matrix, annot=True, cmap='coolwarm', fmt=\".2f\")\n",
        "plt.title('Heatmap de Correlación de Variables Numéricas')\n",
        "plt.show()"
      ],
      "execution_count": null,
      "outputs": []
    },
    {
      "cell_type": "code",
      "metadata": {
        "id": "548675fc"
      },
      "source": [
        "df[numerical_cols].hist(figsize=(15, 10))\n",
        "plt.tight_layout()\n",
        "plt.show()"
      ],
      "execution_count": null,
      "outputs": []
    },
    {
      "cell_type": "code",
      "metadata": {
        "id": "ea20c665"
      },
      "source": [
        "# Selecionar columnas categoricas\n",
        "categorical_cols = df.select_dtypes(include='object').columns\n",
        "print(\"Categorical columns:\")\n",
        "print(categorical_cols)"
      ],
      "execution_count": null,
      "outputs": []
    },
    {
      "cell_type": "markdown",
      "source": [
        "## Visualizar la distribución de Churn para cada variable categórica"
      ],
      "metadata": {
        "id": "rHI-mrM259jz"
      }
    },
    {
      "cell_type": "code",
      "metadata": {
        "id": "341db064"
      },
      "source": [
        "# Traducciones al español para los nombres de las columnas\n",
        "spanish_column_names = {\n",
        "    'Churn': 'Deserción',\n",
        "    'gender': 'Género',\n",
        "    'MultipleLines': 'Líneas Múltiples',\n",
        "    'InternetService': 'Servicio de Internet',\n",
        "    'OnlineSecurity': 'Seguridad Online',\n",
        "    'OnlineBackup': 'Copia de Seguridad Online',\n",
        "    'DeviceProtection': 'Protección de Dispositivo',\n",
        "    'TechSupport': 'Soporte Técnico',\n",
        "    'StreamingTV': 'Streaming de TV',\n",
        "    'StreamingMovies': 'Streaming de Películas',\n",
        "    'Contract': 'Contrato',\n",
        "    'PaymentMethod': 'Método de Pago'\n",
        "}\n",
        "\n",
        "for col in categorical_cols:\n",
        "    if col != 'customerID': # Excluir customerID ya que es un identificador único\n",
        "        plt.figure(figsize=(10, 6))\n",
        "        # Mapear valores de Churn para mejor legibilidad\n",
        "        df['Desercion'] = df['Churn'].map({0: 'No', 1: 'Sí'})\n",
        "        ax = sns.countplot(data=df, x=col, hue='Desercion', palette='viridis') # Cambiado hue de vuelta a Churn_label\n",
        "\n",
        "        # Agregar anotaciones de conteo y porcentaje\n",
        "        total = len(df)\n",
        "        for p in ax.patches:\n",
        "            height = p.get_height()\n",
        "            if height > 0: # Solo anotar si la altura es mayor que 0\n",
        "                ax.annotate(f'{height}\\n({height/total:.1%})',\n",
        "                            (p.get_x() + p.get_width() / 2., height / 2), # Posición dentro de la barra\n",
        "                            ha='center', va='center', # Alineación central\n",
        "                            xytext=(0, 0), # Sin desplazamiento de texto\n",
        "                            textcoords='offset points',\n",
        "                            color='white') # Establecer color del texto a blanco para mejor visibilidad dentro de barras oscuras\n",
        "\n",
        "        # Usar traducción al español para el título\n",
        "        spanish_title = f'Distribución de Deserción por {spanish_column_names.get(col, col)}' # Obtener nombre en español, usar inglés si no se encuentra\n",
        "        plt.title(spanish_title)\n",
        "        plt.xlabel(col) # Mantener el nombre de la columna en el eje x\n",
        "        plt.ylabel('Clientes') # Cambiar la etiqueta del eje y a 'Clientes'\n",
        "        plt.xticks(rotation=45, ha='right')\n",
        "        plt.tight_layout()\n",
        "        plt.show()\n",
        "\n",
        "# Eliminar la columna temporal 'Desercion'\n",
        "df = df.drop('Desercion', axis=1)"
      ],
      "execution_count": null,
      "outputs": []
    },
    {
      "cell_type": "markdown",
      "source": [
        "## Insights y Conclusiones\n"
      ],
      "metadata": {
        "id": "9W4zdAod3tn2"
      }
    },
    {
      "cell_type": "markdown",
      "source": [
        "### Observando los gráficos que hemos generado, podemos identificar algunas tendencias interesantes relacionadas con la deserción de clientes ('Churn') y las variables categóricas:\n",
        "\n",
        "* Servicio de Internet: Los clientes con Fiber optic parecen tener una tasa de deserción significativamente mayor en comparación con aquellos con servicio DSL o sin servicio de internet.\n",
        "\n",
        "* Contrato: Los clientes con contratos Month-to-month (mes a mes) muestran una tasa de deserción mucho más alta que aquellos con contratos de uno o dos años. Esto sugiere que los compromisos a largo plazo están asociados con una menor probabilidad de deserción.\n",
        "\n",
        "* Método de Pago: El método de pago Electronic check (cheque electrónico) parece estar asociado con una mayor tasa de deserción en comparación con otros métodos de pago.\n",
        "\n",
        "* Seguridad Online y Soporte Técnico: Los clientes que no tienen servicios adicionales como Online Security o Tech Support tienen una tasa de deserción más alta que aquellos que sí los tienen. Esto podría indicar que estos servicios adicionales contribuyen a la retención de clientes.\n",
        "\n",
        "* Streaming TV y Streaming Movies: Similar a la seguridad online y soporte técnico, los clientes que no tienen servicios de streaming de TV o películas también parecen tener una tasa de deserción ligeramente mayor.\n",
        "\n"
      ],
      "metadata": {
        "id": "BxF9yX666QnE"
      }
    }
  ]
}